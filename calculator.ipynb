{
 "cells": [
  {
   "cell_type": "code",
   "execution_count": 2,
   "id": "e303e138",
   "metadata": {},
   "outputs": [],
   "source": [
    "from tkinter import*"
   ]
  },
  {
   "cell_type": "code",
   "execution_count": 3,
   "id": "d8a926dd",
   "metadata": {},
   "outputs": [],
   "source": [
    "window=Tk()\n",
    "window.title('calculator')\n",
    "window.geometry('270x350')\n",
    "window.configure(bg=\"#17161b\")\n",
    "\n",
    "equation= \"\"\n",
    "def show(value):\n",
    "    global equation\n",
    "    equation+=value\n",
    "    label.config(text=equation)\n",
    "    \n",
    "def clear():\n",
    "    global equation\n",
    "    equation= \"\"\n",
    "    label.config(text=equation)\n",
    "    \n",
    "def calculate():\n",
    "    global equation\n",
    "    result=\"\"\n",
    "    if equation !=\"\":\n",
    "        try:\n",
    "            result=eval(equation)\n",
    "        except:\n",
    "            result=\"error\"\n",
    "            equation=\"\"\n",
    "    label.config(text=result)\n",
    "\n",
    "\n",
    "label=Label(window,height=2,width=25,text=\" \",font=('arial',30))\n",
    "label.pack()\n",
    "\n",
    "\n",
    "button1=Button(window,text='AC',height=1,width=5,bg=\"#3697f5\",command=lambda:clear())\n",
    "button1.place(x=15,y=100)\n",
    "button1=Button(window,text='/',height=1,width=5,command=lambda:show('/'))\n",
    "button1.place(x=70,y=100)\n",
    "button1=Button(window,text='%',height=1,width=5,command=lambda:show('%'))\n",
    "button1.place(x=130,y=100)\n",
    "button1=Button(window,text='*',height=1,width=5,command=lambda:show('*'))\n",
    "button1.place(x=190,y=100)\n",
    "\n",
    "button1=Button(window,text='7',height=1,width=5,command=lambda:show('7'))\n",
    "button1.place(x=15,y=150)\n",
    "button1=Button(window,text='8',height=1,width=5,command=lambda:show('8'))\n",
    "button1.place(x=70,y=150)\n",
    "button1=Button(window,text='9',height=1,width=5,command=lambda:show('9'))\n",
    "button1.place(x=130,y=150)\n",
    "button1=Button(window,text='-',height=1,width=5,command=lambda:show('-'))\n",
    "button1.place(x=190,y=150)\n",
    "\n",
    "button1=Button(window,text='4',height=1,width=5,command=lambda:show('4'))\n",
    "button1.place(x=15,y=200)\n",
    "button1=Button(window,text='5',height=1,width=5,command=lambda:show('5'))\n",
    "button1.place(x=70,y=200)\n",
    "button1=Button(window,text='6',height=1,width=5,command=lambda:show('6'))\n",
    "button1.place(x=130,y=200)\n",
    "button1=Button(window,text='+',height=1,width=5,command=lambda:show('+'))\n",
    "button1.place(x=190,y=200)\n",
    "\n",
    "button1=Button(window,text='1',height=1,width=5,command=lambda:show('1'))\n",
    "button1.place(x=15,y=250)\n",
    "button1=Button(window,text='2',height=1,width=5,command=lambda:show('2'))\n",
    "button1.place(x=70,y=250)\n",
    "button1=Button(window,text='3',height=1,width=5,command=lambda:show('3'))\n",
    "button1.place(x=130,y=250)\n",
    "button1=Button(window,text='=',height=5,width=5,bg=\"#fe9037\",command=lambda:calculate())\n",
    "button1.place(x=190,y=250)\n",
    "\n",
    "button1=Button(window,text='0',height=2,width=13,command=lambda:show('0'))\n",
    "button1.place(x=15,y=300)\n",
    "button1=Button(window,text='.',height=2,width=5,command=lambda:show('.'))\n",
    "button1.place(x=130,y=300)\n",
    "\n",
    "window.mainloop()"
   ]
  },
  {
   "cell_type": "code",
   "execution_count": null,
   "id": "6fba6069",
   "metadata": {},
   "outputs": [],
   "source": [
    "\n"
   ]
  },
  {
   "cell_type": "code",
   "execution_count": null,
   "id": "6bc7a55e",
   "metadata": {},
   "outputs": [],
   "source": []
  }
 ],
 "metadata": {
  "kernelspec": {
   "display_name": "Python 3 (ipykernel)",
   "language": "python",
   "name": "python3"
  },
  "language_info": {
   "codemirror_mode": {
    "name": "ipython",
    "version": 3
   },
   "file_extension": ".py",
   "mimetype": "text/x-python",
   "name": "python",
   "nbconvert_exporter": "python",
   "pygments_lexer": "ipython3",
   "version": "3.11.5"
  }
 },
 "nbformat": 4,
 "nbformat_minor": 5
}
