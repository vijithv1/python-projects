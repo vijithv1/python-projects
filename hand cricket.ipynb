{
 "cells": [
  {
   "cell_type": "code",
   "execution_count": 1,
   "id": "b674ea2c",
   "metadata": {},
   "outputs": [],
   "source": [
    "def toss():\n",
    "    Toss=input('Toss time.. WHAT YOU WANT \\\"ODD or EVEN\\\":')\n",
    "    My_input=int(input('please,Enter any between 1 to 10:'))\n",
    "    if My_input>10:\n",
    "        print('------INVALID INPUT-----\\n------GAME RESTARTING-----')\n",
    "        TOSS()\n",
    "    AI_input=random.randint(1,10)\n",
    "    print('Input of AI:',AI_input)\n",
    "    if TOSS.upper=='EVEN':\n",
    "        if(My_input+AI_input)%2==0:\n",
    "            print('Great..You won the Toss..what you wannan choose')\n",
    "            yourToss=input('BAT or BAll:')\n",
    "            if yourToss.upper()=='BAT':\n",
    "                firstbatting()\n",
    "            elif yourToss.upper(='BOWL':\n",
    "                secondbatting()\n",
    "            \n",
    "    "
   ]
  },
  {
   "cell_type": "code",
   "execution_count": null,
   "id": "534b4550",
   "metadata": {},
   "outputs": [],
   "source": []
  },
  {
   "cell_type": "code",
   "execution_count": null,
   "id": "ea7f3bba",
   "metadata": {},
   "outputs": [],
   "source": []
  }
 ],
 "metadata": {
  "kernelspec": {
   "display_name": "Python 3 (ipykernel)",
   "language": "python",
   "name": "python3"
  },
  "language_info": {
   "codemirror_mode": {
    "name": "ipython",
    "version": 3
   },
   "file_extension": ".py",
   "mimetype": "text/x-python",
   "name": "python",
   "nbconvert_exporter": "python",
   "pygments_lexer": "ipython3",
   "version": "3.11.5"
  }
 },
 "nbformat": 4,
 "nbformat_minor": 5
}
