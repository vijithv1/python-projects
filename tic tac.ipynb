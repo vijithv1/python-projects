{
 "cells": [
  {
   "cell_type": "code",
   "execution_count": 1,
   "id": "c850dfd7",
   "metadata": {},
   "outputs": [],
   "source": [
    "board=[\" \",\" \",\" \",\n",
    "       \" \",\" \",\" \",\n",
    "       \" \", \" \",\" \"]"
   ]
  },
  {
   "cell_type": "code",
   "execution_count": 2,
   "id": "6cec19f9",
   "metadata": {},
   "outputs": [
    {
     "data": {
      "text/plain": [
       "[' ', ' ', ' ', ' ', ' ', ' ', ' ', ' ', ' ']"
      ]
     },
     "execution_count": 2,
     "metadata": {},
     "output_type": "execute_result"
    }
   ],
   "source": [
    "board"
   ]
  },
  {
   "cell_type": "code",
   "execution_count": 3,
   "id": "334d9b67",
   "metadata": {},
   "outputs": [],
   "source": [
    "def print_board():\n",
    "    print(board[0]+ \" | \" + board[1] + \" | \" + board[2])\n",
    "    print('--------')\n",
    "    print(board[3]+ \" | \" + board[4] + \" | \" + board[5])\n",
    "    print('--------')\n",
    "    print(board[6]+ \" | \" + board[7] + \" | \" + board[8])"
   ]
  },
  {
   "cell_type": "code",
   "execution_count": 4,
   "id": "9485fb64",
   "metadata": {},
   "outputs": [
    {
     "name": "stdout",
     "output_type": "stream",
     "text": [
      "  |   |  \n",
      "--------\n",
      "  |   |  \n",
      "--------\n",
      "  |   |  \n"
     ]
    }
   ],
   "source": [
    "print_board()"
   ]
  },
  {
   "cell_type": "code",
   "execution_count": 5,
   "id": "25dda0f7",
   "metadata": {},
   "outputs": [],
   "source": [
    "def check_win(player):\n",
    "    if board[0] == board[1] == board[2] == player or \\\n",
    "       board[3] == board[4] == board[5] == player or \\\n",
    "       board[6] == board[7] == board[8] == player:\n",
    "        return True\n",
    "    if board[0] == board[3] == board[6] == player or \\\n",
    "       board[1] == board[4] == board[7] == player or \\\n",
    "       board[2] == board[5] == board[8] == player:\n",
    "        return True\n",
    "    if board[0] == board[4] == board[8] == player or \\\n",
    "       board[2] == board[4] == board[6] == player:\n",
    "        return True\n",
    "    else:\n",
    "        return False\n",
    "        \n",
    "       \n",
    "    "
   ]
  },
  {
   "cell_type": "code",
   "execution_count": 6,
   "id": "76bff317",
   "metadata": {},
   "outputs": [],
   "source": [
    "current_player = 'x'"
   ]
  },
  {
   "cell_type": "code",
   "execution_count": 8,
   "id": "5a54dbf7",
   "metadata": {},
   "outputs": [
    {
     "name": "stdout",
     "output_type": "stream",
     "text": [
      "x | o |  \n",
      "--------\n",
      "x | o |  \n",
      "--------\n",
      "x |   |  \n",
      "Enter the number9\n",
      "x | o |  \n",
      "--------\n",
      "x | o |  \n",
      "--------\n",
      "x |   | x\n",
      "x wins!\n"
     ]
    }
   ],
   "source": [
    "while True:\n",
    "    print_board()\n",
    "    \n",
    "    move = input('Enter the number')\n",
    "    \n",
    "    while move not in '123456789':\n",
    "        move = input('Enter the number')\n",
    "        \n",
    "    move= int(move) -1\n",
    "    \n",
    "    if board[move] != ' ':\n",
    "        print('This position is occupied. Choose another position.')\n",
    "        continue\n",
    "    board[move]=current_player\n",
    "    \n",
    "    if check_win(current_player):\n",
    "        board[move]=current_player\n",
    "        print_board()\n",
    "        print(f\"{current_player} wins!\")\n",
    "        break\n",
    "        \n",
    "    if \" \"not in board:\n",
    "        print_board()\n",
    "        print('It is a Tie')\n",
    "        break\n",
    "        \n",
    "    if current_player  == 'x':\n",
    "        current_player = 'o'\n",
    "    else:\n",
    "        current_player = 'x'\n",
    "        \n",
    "        "
   ]
  },
  {
   "cell_type": "code",
   "execution_count": null,
   "id": "96ceee62",
   "metadata": {},
   "outputs": [],
   "source": []
  },
  {
   "cell_type": "code",
   "execution_count": null,
   "id": "8fa4f4a1",
   "metadata": {},
   "outputs": [],
   "source": []
  }
 ],
 "metadata": {
  "kernelspec": {
   "display_name": "Python 3 (ipykernel)",
   "language": "python",
   "name": "python3"
  },
  "language_info": {
   "codemirror_mode": {
    "name": "ipython",
    "version": 3
   },
   "file_extension": ".py",
   "mimetype": "text/x-python",
   "name": "python",
   "nbconvert_exporter": "python",
   "pygments_lexer": "ipython3",
   "version": "3.11.5"
  }
 },
 "nbformat": 4,
 "nbformat_minor": 5
}
